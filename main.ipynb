{
 "cells": [
  {
   "cell_type": "code",
   "execution_count": 1,
   "metadata": {},
   "outputs": [],
   "source": [
    "import id3\n",
    "import mlp\n",
    "import saveload\n",
    "import pandas\n",
    "import kfold\n",
    "import saveload\n",
    "\n",
    "df = pandas.read_csv('iris.csv')\n",
    "df = df.sample(frac=1).reset_index(drop=True)"
   ]
  },
  {
   "cell_type": "code",
   "execution_count": null,
   "metadata": {},
   "outputs": [
    {
     "name": "stdout",
     "output_type": "stream",
     "text": [
      "-------------------- MODEL 1 --------------------\n",
      "Tree built using C4.5.\n",
      "Tree pruned.\n",
      "petal.length\n",
      "++++ ( >= 3.0 ) sepal.length\n",
      "    ++++ ( >= 4.9 ) petal.width\n",
      "        ++++ ( >= 1.0 ) sepal.width\n",
      "            ++++ ( >= 2.2 ) Virginica\n",
      "            ++++ ( < 2.2 ) Versicolor\n",
      "++++ ( < 3.0 ) Setosa\n",
      "ACCURACY: 0.6428571428571428\n",
      "\n",
      "-------------------- MODEL 2 --------------------\n",
      "Tree built using C4.5.\n",
      "Tree pruned.\n",
      "petal.length\n",
      "++++ ( < 3.3 ) Setosa\n",
      "++++ ( >= 3.3 ) sepal.length\n",
      "    ++++ ( >= 4.9 ) petal.width\n",
      "        ++++ ( >= 1.0 ) sepal.width\n",
      "            ++++ ( >= 2.2 ) Virginica\n",
      "            ++++ ( < 2.2 ) Versicolor\n",
      "ACCURACY: 0.7857142857142857\n",
      "\n",
      "-------------------- MODEL 3 --------------------\n"
     ]
    }
   ],
   "source": [
    "id3_model = kfold.ID3(10, df, pruning = True, is_result_continuous = False)"
   ]
  },
  {
   "cell_type": "code",
   "execution_count": null,
   "metadata": {},
   "outputs": [],
   "source": [
    "mlp_model = kfold.MLP(5, df, [5,5], max_iteration = 10, error_threshold = 0.1, learning_rate = 0.1, batch_size = 5)"
   ]
  },
  {
   "cell_type": "code",
   "execution_count": null,
   "metadata": {},
   "outputs": [],
   "source": [
    "# save model\n",
    "saveload.saveDTL(id3_model)\n",
    "saveload.saveMLP(mlp_model)"
   ]
  },
  {
   "cell_type": "code",
   "execution_count": null,
   "metadata": {},
   "outputs": [],
   "source": [
    "# load model DTL\n",
    "id3.print_tree(saveload.loadDTL(),0)"
   ]
  },
  {
   "cell_type": "code",
   "execution_count": null,
   "metadata": {},
   "outputs": [],
   "source": [
    "# load model MLP\n",
    "saveload.loadMLP().print_model()"
   ]
  }
 ],
 "metadata": {
  "kernelspec": {
   "display_name": "Python 3",
   "language": "python",
   "name": "python3"
  },
  "language_info": {
   "codemirror_mode": {
    "name": "ipython",
    "version": 3
   },
   "file_extension": ".py",
   "mimetype": "text/x-python",
   "name": "python",
   "nbconvert_exporter": "python",
   "pygments_lexer": "ipython3",
   "version": "3.7.1"
  }
 },
 "nbformat": 4,
 "nbformat_minor": 4
}
